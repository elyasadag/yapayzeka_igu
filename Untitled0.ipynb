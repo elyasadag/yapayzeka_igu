{
  "nbformat": 4,
  "nbformat_minor": 0,
  "metadata": {
    "colab": {
      "provenance": []
    },
    "kernelspec": {
      "name": "python3",
      "display_name": "Python 3"
    },
    "language_info": {
      "name": "python"
    }
  },
  "cells": [
    {
      "cell_type": "markdown",
      "source": [
        "IGU MYO YZ DERSİ 30.09.2024 - DERS NOTU\n",
        "ELYASA DAĞ\n"
      ],
      "metadata": {
        "id": "EHYqGvTrCS5M"
      }
    },
    {
      "cell_type": "code",
      "execution_count": 2,
      "metadata": {
        "colab": {
          "base_uri": "https://localhost:8080/"
        },
        "id": "f2Q-RiXbBHxw",
        "outputId": "9e15ecc3-eeab-4db7-e868-35c6d6acbe99"
      },
      "outputs": [
        {
          "output_type": "stream",
          "name": "stdout",
          "text": [
            "Merhaba IGU MYO YZ\n"
          ]
        }
      ],
      "source": [
        "print(\"Merhaba IGU MYO YZ\") # İLK PHYTON PROGRAMI ÇIKTISIDIR."
      ]
    },
    {
      "cell_type": "code",
      "source": [
        "import sys #import python programlama dilinde yazılıma kütüphane eklemeye yarar\n",
        "print(sys.version)"
      ],
      "metadata": {
        "colab": {
          "base_uri": "https://localhost:8080/"
        },
        "id": "cu4holIxGPuT",
        "outputId": "32a2054d-b285-4887-d725-a7deb29a71f5"
      },
      "execution_count": 3,
      "outputs": [
        {
          "output_type": "stream",
          "name": "stdout",
          "text": [
            "3.10.12 (main, Sep 11 2024, 15:47:36) [GCC 11.4.0]\n"
          ]
        }
      ]
    },
    {
      "cell_type": "code",
      "source": [
        "from google.colab import drive # google colab -  drive baglantısı\n",
        "drive.mount(\"/content/drive\")"
      ],
      "metadata": {
        "colab": {
          "base_uri": "https://localhost:8080/"
        },
        "id": "ZXuBDRsSGqlJ",
        "outputId": "1f0991d1-ff0f-436e-89e0-bf470271b40f"
      },
      "execution_count": 6,
      "outputs": [
        {
          "output_type": "stream",
          "name": "stdout",
          "text": [
            "Mounted at /content/drive\n"
          ]
        }
      ]
    },
    {
      "cell_type": "code",
      "source": [
        "import os\n",
        "os.chdir('/content/drive/My Drive/YZIGU')\n",
        "!pwd # bize kodun çıktısını dosya yolu olarak veren kod blogudur."
      ],
      "metadata": {
        "colab": {
          "base_uri": "https://localhost:8080/"
        },
        "id": "N7vugfoCIdR3",
        "outputId": "36e39d74-c1af-480d-f96e-d39c84f6c1b8"
      },
      "execution_count": 12,
      "outputs": [
        {
          "output_type": "stream",
          "name": "stdout",
          "text": [
            "/content/drive/My Drive/YZIGU\n"
          ]
        }
      ]
    }
  ]
}